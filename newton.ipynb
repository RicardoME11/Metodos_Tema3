{
 "cells": [
  {
   "cell_type": "markdown",
   "id": "regional-front",
   "metadata": {},
   "source": [
    "##Metodo de newton"
   ]
  },
  {
   "cell_type": "code",
   "execution_count": 1,
   "id": "persistent-platinum",
   "metadata": {},
   "outputs": [],
   "source": [
    "import numpy as np\n",
    "from sympy import*\n",
    "from IPython.display import display\n",
    "from math import*\n",
    "import math"
   ]
  },
  {
   "cell_type": "code",
   "execution_count": 3,
   "id": "reflected-vienna",
   "metadata": {},
   "outputs": [
    {
     "name": "stdout",
     "output_type": "stream",
     "text": [
      "Iteracion |        x1        |        x2        |        x3\n",
      "0         [0.500000000000000, 0.500000000000000, -0.523598775598299]\n",
      "1         [0.500166686911463, 0.250803638439239, -0.517387427392491]\n",
      "2         [0.499944928541967, 0.126206247821387, -0.520455120302109]\n",
      "3         [0.499986244386578, 0.0639130429733551, -0.522003132940358]\n",
      "4         [0.499994669722106, 0.0327767892013363, -0.522780131075531]\n",
      "5         [0.499997415675789, 0.0172291855285458, -0.523168405980392]\n",
      "6         [0.499998604116754, 0.00949620502570516, -0.523361562387810]\n",
      "7         [0.499999164631394, 0.00570986716024093, -0.523456143390575]\n",
      "8         [0.499999420353698, 0.00396592784900198, -0.523499706773766]\n",
      "9         [0.499999514357950, 0.00332332103923962, -0.523515759063492]\n",
      "10         [0.499999531869290, 0.00320354317138218, -0.523518751111826]\n",
      "11         [0.499999532523016, 0.00319907102680819, -0.523518862825915]\n",
      "12         [0.499999532523930, 0.00319906477498186, -0.523518862982086]\n"
     ]
    }
   ],
   "source": [
    "def Newton_algoritmo(F, J, x, eps):\n",
    "    \n",
    "    F_value = F(x)\n",
    "    F_norm = np.linalg.norm(F_value, ord=2)\n",
    "    ni = 0\n",
    "    print(\"Iteracion |        x1        |        x2        |        x3\")\n",
    "    while abs(F_norm) > eps and   ni < 100:\n",
    "        delta = np.linalg.solve(J(x), -F_value)\n",
    "        x = x + delta\n",
    "        print(ni,\"       \", simplify(x))\n",
    "        F_value = F(x)\n",
    "        F_norm = np.linalg.norm(F_value, ord=2)\n",
    "        ni += 1\n",
    "\n",
    "    if abs(F_norm) > eps:\n",
    "        ni = -1\n",
    "    return x, ni\n",
    "\n",
    "def SistemaNoLineal():\n",
    "\n",
    "    def F(x):\n",
    "        eq1 = 3*x[0] - cos(x[1]*x[2]) - 1/2\n",
    "        eq2 = 4*x[0]**2 - 625*x[1]**2 + 2*x[1] - 1\n",
    "        eq3 = exp(-x[0]*x[1]) + 20*x[2] + (10*math.pi-3)/3\n",
    "        return np.array([eq1,eq2,eq3])\n",
    "\n",
    "    def J(x):\n",
    "       \n",
    "        return np.array([[3, x[2]*sin(x[1]*x[2]), x[1]*sin(x[1]*x[2])],\n",
    "                         [8*x[0], -1250*x[1]+2, 0],\n",
    "                         [-x[1]*exp(-x[0]*x[1]), -x[0]*exp(-x[0]*x[1]), 20]])\n",
    "\n",
    "    tol = 1e-20\n",
    "    x, n =  Newton_algoritmo(F, J, x=np.array([0,0,0]), eps=1e-10)\n",
    "    \n",
    "SistemaNoLineal()"
   ]
  },
  {
   "cell_type": "code",
   "execution_count": null,
   "id": "owned-feedback",
   "metadata": {},
   "outputs": [],
   "source": []
  }
 ],
 "metadata": {
  "kernelspec": {
   "display_name": "Python 3",
   "language": "python",
   "name": "python3"
  },
  "language_info": {
   "codemirror_mode": {
    "name": "ipython",
    "version": 3
   },
   "file_extension": ".py",
   "mimetype": "text/x-python",
   "name": "python",
   "nbconvert_exporter": "python",
   "pygments_lexer": "ipython3",
   "version": "3.8.5"
  }
 },
 "nbformat": 4,
 "nbformat_minor": 5
}
